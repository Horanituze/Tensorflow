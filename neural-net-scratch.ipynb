{
 "cells": [
  {
   "cell_type": "code",
   "execution_count": 1,
   "id": "6da2a2e8-4b4e-4df2-9959-07adaac832b2",
   "metadata": {},
   "outputs": [],
   "source": [
    "import numpy as np"
   ]
  },
  {
   "cell_type": "code",
   "execution_count": 2,
   "id": "187d39e0-7b86-476b-8669-eb9c7bf867db",
   "metadata": {},
   "outputs": [],
   "source": [
    "def sigmoid(z):\n",
    "    return np.array([ 1 / (1 + np.exp(x)) for x in z])\n",
    "\n",
    "def sigmoid_derivative(z):\n",
    "    return np.array([x * (1-x) for x in z])\n",
    "\n",
    "def relu(x):\n",
    "    return np.max(x, 0)\n",
    "\n",
    "def relu_derivative(x):\n",
    "    x[x<=0] = 0\n",
    "    x[x>0] = 1\n",
    "    return x"
   ]
  },
  {
   "cell_type": "code",
   "execution_count": 3,
   "id": "8dcc5479-be1a-41bc-9425-40b9ab76679c",
   "metadata": {},
   "outputs": [
    {
     "data": {
      "text/plain": [
       "(3, 3)"
      ]
     },
     "execution_count": 3,
     "metadata": {},
     "output_type": "execute_result"
    }
   ],
   "source": [
    "X = np.array([[0, 1, 1], [0, 1, 1], [1, 0, 0]])\n",
    "y = np.array([[0, 0], [0,1], [1, 0]])\n",
    "X.shape"
   ]
  },
  {
   "cell_type": "code",
   "execution_count": 4,
   "id": "7a99b4ec-73e3-4690-b00d-77e3623b31f4",
   "metadata": {},
   "outputs": [
    {
     "data": {
      "text/plain": [
       "(3, 2)"
      ]
     },
     "execution_count": 4,
     "metadata": {},
     "output_type": "execute_result"
    }
   ],
   "source": [
    "y.shape"
   ]
  },
  {
   "cell_type": "code",
   "execution_count": 5,
   "id": "57fca74b-6ae4-4f9e-bae5-02032b6d2bc2",
   "metadata": {
    "tags": []
   },
   "outputs": [],
   "source": [
    "class NeuralNetwork:\n",
    "    def __init__(self, x, y):\n",
    "        self.input = x\n",
    "        self.weights1 = np.random.rand(self.input.shape[1], 2)\n",
    "        self.y = y\n",
    "        self.output = np.zeros_like(y)\n",
    "        \n",
    "    def feedforward(self):\n",
    "        self.output = sigmoid(np.dot(self.input, self.weights1))\n",
    "        \n",
    "    def backprop(self):\n",
    "        d_weights1 = np.dot(self.input.T, ((self.y - self.output)* sigmoid_derivative(self.output)))\n",
    "        self.weights1 += d_weights1\n",
    "        \n",
    "    def train(self):\n",
    "        self.feedforward()\n",
    "        self.backprop()\n",
    "        \n",
    "\n",
    "    \n",
    "    def loss(self, y):\n",
    "        return np.mean((y - self.output) **2) #MSE, RMSE, MAE\n",
    "        "
   ]
  },
  {
   "cell_type": "code",
   "execution_count": 6,
   "id": "c4337004-d00e-46a8-9c1b-11a8507de927",
   "metadata": {},
   "outputs": [],
   "source": [
    "class NeuralNetwork:\n",
    "    def __init__(self, x, y):\n",
    "        self.input = x\n",
    "        self.weights1 = np.random.rand(self.input.shape[1], 16)\n",
    "        self.weights2 = np.random.rand(16, 8)\n",
    "        self.weights3 = np.random.rand(8, 2)\n",
    "        self.y = y\n",
    "        self.output = np.zeros_like(y)\n",
    "        \n",
    "        \n",
    "    def feedforward(self):\n",
    "        self.layer1 = sigmoid(np.dot(self.input, self.weights1))\n",
    "        self.layer2 = sigmoid(np.dot(self.layer1, self.weights2))\n",
    "        self.output = sigmoid(np.dot(self.layer2, self.weights3))\n",
    "        \n",
    "    def backprop(self):\n",
    "        d_weights3 = np.dot(self.layer2.T, (2 *( self.y - self.output) * sigmoid_derivative(self.output)))\n",
    "        d_weights2 = np.dot(self.layer1.T, (np.dot(2 * (self.y - self.output) * \n",
    "                                                   sigmoid_derivative(self.output), \n",
    "                                                   self.weights3.T) * sigmoid_derivative(self.layer2)))\n",
    "        d_weights1 = np.dot(self.input.T, (np.dot(np.dot(2*(self.y - self.output) * \n",
    "                                                         sigmoid_derivative(self.output), self.weights3.T) * \n",
    "                                                  sigmoid_derivative(self.layer2), self.weights2.T) * \n",
    "                                           sigmoid_derivative(self.layer1)))\n",
    "        self.weights1 += d_weights1\n",
    "        self.weights2 += d_weights2\n",
    "        self.weights3 += d_weights3\n",
    "        \n",
    "    def train(self):\n",
    "        self.feedforward()\n",
    "        self.backprop()"
   ]
  },
  {
   "cell_type": "code",
   "execution_count": 7,
   "id": "7b267760-7257-499f-a25b-354c2d7c3a8c",
   "metadata": {},
   "outputs": [],
   "source": [
    "model = NeuralNetwork(X, y)"
   ]
  },
  {
   "cell_type": "code",
   "execution_count": 8,
   "id": "36c587a0-66fc-4fc5-8d22-20bc58d4abf2",
   "metadata": {},
   "outputs": [
    {
     "data": {
      "text/plain": [
       "array([[0, 0],\n",
       "       [0, 0],\n",
       "       [0, 0]])"
      ]
     },
     "execution_count": 8,
     "metadata": {},
     "output_type": "execute_result"
    }
   ],
   "source": [
    "model.output"
   ]
  },
  {
   "cell_type": "code",
   "execution_count": 9,
   "id": "de94c5b9-6ec1-4386-8b98-69c2c8d06bad",
   "metadata": {},
   "outputs": [],
   "source": [
    "model.train()"
   ]
  },
  {
   "cell_type": "code",
   "execution_count": 10,
   "id": "1f690cf0-4227-417c-8c08-d071dcb75f5c",
   "metadata": {},
   "outputs": [
    {
     "data": {
      "text/plain": [
       "array([[0, 1, 1],\n",
       "       [0, 1, 1],\n",
       "       [1, 0, 0]])"
      ]
     },
     "execution_count": 10,
     "metadata": {},
     "output_type": "execute_result"
    }
   ],
   "source": [
    "model.input"
   ]
  },
  {
   "cell_type": "code",
   "execution_count": 11,
   "id": "2a2bf4fc-266e-436d-9c4b-e1388f78c3bd",
   "metadata": {},
   "outputs": [
    {
     "data": {
      "text/plain": [
       "array([[0.38752865, 0.4185225 ],\n",
       "       [0.38752865, 0.4185225 ],\n",
       "       [0.45202116, 0.46897186]])"
      ]
     },
     "execution_count": 11,
     "metadata": {},
     "output_type": "execute_result"
    }
   ],
   "source": [
    "model.output"
   ]
  },
  {
   "cell_type": "code",
   "execution_count": null,
   "id": "0c1febc3-2b3b-4c69-947b-d22b9db20904",
   "metadata": {},
   "outputs": [],
   "source": []
  }
 ],
 "metadata": {
  "kernelspec": {
   "display_name": "Python 3 (ipykernel)",
   "language": "python",
   "name": "python3"
  },
  "language_info": {
   "codemirror_mode": {
    "name": "ipython",
    "version": 3
   },
   "file_extension": ".py",
   "mimetype": "text/x-python",
   "name": "python",
   "nbconvert_exporter": "python",
   "pygments_lexer": "ipython3",
   "version": "3.10.6"
  }
 },
 "nbformat": 4,
 "nbformat_minor": 5
}
